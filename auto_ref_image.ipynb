{
  "nbformat": 4,
  "nbformat_minor": 0,
  "metadata": {
    "colab": {
      "provenance": [],
      "authorship_tag": "ABX9TyPf6GueRyr5XWTh2kPMdPWN",
      "include_colab_link": true
    },
    "kernelspec": {
      "name": "python3",
      "display_name": "Python 3"
    },
    "language_info": {
      "name": "python"
    }
  },
  "cells": [
    {
      "cell_type": "markdown",
      "metadata": {
        "id": "view-in-github",
        "colab_type": "text"
      },
      "source": [
        "<a href=\"https://colab.research.google.com/github/TchuffaDev/Projeto-para-imers-o-gemini/blob/main/auto_ref_image.ipynb\" target=\"_parent\"><img src=\"https://colab.research.google.com/assets/colab-badge.svg\" alt=\"Open In Colab\"/></a>"
      ]
    },
    {
      "cell_type": "code",
      "execution_count": 1,
      "metadata": {
        "id": "o23OD4U8DRJ1"
      },
      "outputs": [],
      "source": [
        "#Instalando o SDK do Google\n",
        "!pip install -q -U google-generativeai"
      ]
    },
    {
      "cell_type": "code",
      "source": [
        "#Configurações iniciais\n",
        "import google.generativeai as genai\n",
        "from google.colab import userdata\n",
        "api_key = userdata.get('SECRET_KEY')\n",
        "genai.configure(api_key=api_key)"
      ],
      "metadata": {
        "id": "1a2Fb9RWJbrg"
      },
      "execution_count": 11,
      "outputs": []
    },
    {
      "cell_type": "code",
      "source": [
        "generation_config = {\n",
        "  \"candidate_count\": 1,\n",
        "  \"temperature\": 0.9,\n",
        "}"
      ],
      "metadata": {
        "id": "Usqp_FSRLlhd"
      },
      "execution_count": 3,
      "outputs": []
    },
    {
      "cell_type": "code",
      "source": [
        "safety_settings={\n",
        "    'HATE': 'BLOCK_NONE',\n",
        "    'HARASSMENT': 'BLOCK_NONE',\n",
        "    'SEXUAL' : 'BLOCK_NONE',\n",
        "    'DANGEROUS' : 'BLOCK_NONE'\n",
        "    }"
      ],
      "metadata": {
        "id": "6S_7o7NAL2aE"
      },
      "execution_count": 4,
      "outputs": []
    },
    {
      "cell_type": "code",
      "source": [
        "model = genai.GenerativeModel(model_name='gemini-1.0-pro',\n",
        "                                  generation_config=generation_config,\n",
        "                                  safety_settings=safety_settings,)"
      ],
      "metadata": {
        "id": "4MDN1Td7L-kN"
      },
      "execution_count": 20,
      "outputs": []
    },
    {
      "cell_type": "code",
      "source": [
        "#iniciando o chat\n",
        "response = model.generate_content(\"let's work with image\")\n",
        "response.text"
      ],
      "metadata": {
        "colab": {
          "base_uri": "https://localhost:8080/",
          "height": 140
        },
        "id": "avwx6KemMJhu",
        "outputId": "0bbbcb14-a543-48a9-96eb-2e90f52a170c"
      },
      "execution_count": 22,
      "outputs": [
        {
          "output_type": "execute_result",
          "data": {
            "text/plain": [
              "'Sure, I can help you work with images. I can:\\n* **Load images from a URL or file path**:\\n```python\\nfrom PIL import Image\\nimage = Image.open(\"image.jpg\")\\n```\\n* **Display images**:\\n```python\\nimage.show()\\n```\\n* **Convert images to different formats**:\\n```python\\nimage.save(\"image.png\")\\n```\\n* **Resize images**:\\n```python\\nimage = image.resize((new_width, new_height))\\n```\\n* **Crop images**:\\n```python\\nimage = image.crop((left, top, right, bottom))\\n```\\n* **Rotate images**:\\n```python\\nimage = image.rotate(angle)\\n```\\n* **Flip images**:\\n```python\\nimage = image.transpose(Image.FLIP_LEFT_RIGHT)\\n```\\n* **Draw on images**:\\n```python\\nfrom PIL import ImageDraw\\ndraw = ImageDraw.Draw(image)\\ndraw.line((x1, y1, x2, y2), fill=\"red\")\\n```\\n* **Create new images**:\\n```python\\nfrom PIL import Image\\nimage = Image.new(\"RGB\", (width, height))\\n```\\n\\nI can also help you with more advanced image processing tasks, such as:\\n* **Object detection**:\\n```python\\nimport cv2\\nimage = cv2.imread(\"image.jpg\")\\ndetector = cv2.CascadeClassifier(\"haarcascade_frontalface_default.xml\")\\nfaces = detector.detectMultiScale(image, 1.1, 4)\\nfor (x, y, w, h) in faces:\\n    cv2.rectangle(image, (x, y), (x+w, y+h), (0, 255, 0), 2)\\n```\\n* **Image segmentation**:\\n```python\\nimport numpy as np\\nimage = cv2.imread(\"image.jpg\")\\nsegmented_image = cv2.watershed(image, None)\\n```\\n* **Image enhancement**:\\n```python\\nimport cv2\\nimage = cv2.imread(\"image.jpg\")\\nenhanced_image = cv2.equalizeHist(image)\\n```\\n\\nIf you have any specific image processing tasks that you need help with, please let me know and I\\'ll be happy to assist you.'"
            ],
            "application/vnd.google.colaboratory.intrinsic+json": {
              "type": "string"
            }
          },
          "metadata": {},
          "execution_count": 22
        }
      ]
    }
  ]
}